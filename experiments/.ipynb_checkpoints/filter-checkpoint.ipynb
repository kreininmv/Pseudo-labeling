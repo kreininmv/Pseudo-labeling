{
 "cells": [
  {
   "cell_type": "code",
   "execution_count": 1,
   "id": "bb270ba6-39d3-40cb-b4d8-b926afd44ea5",
   "metadata": {},
   "outputs": [],
   "source": [
    "import os\n",
    "os.environ[\"CUDA_VISIBLE_DEVICES\"] = \"3\"\n",
    "os.environ['nnUNet_raw'] = \"/home/kreinin.mv/2024/data_aorta/nnUNet_raw\"\n",
    "os.environ['nnUNet_preprocessed'] = \"/home/kreinin.mv/2024/data_aorta/nnUNet_preprocessed\"\n",
    "os.environ['nnUNet_results'] = \"/home/kreinin.mv/2024/data_aorta/nnUNet_results\"\n",
    "\n",
    "from aid_common_utils.viewer import LightPatientViewer3D\n",
    "from aid_common_utils.file_utils import load_mask\n",
    "import numpy as np\n",
    "import SimpleITK as sitk\n",
    "\n",
    "import torch\n",
    "\n",
    "def iou(net_output, target, class_label=torch.tensor(1).type(torch.int)):\n",
    "    net_out_ = (net_output == class_label)\n",
    "    target_ = (target == class_label)\n",
    "    return (torch.sum(net_out_ * target_))/(torch.sum(torch.maximum(net_out_, target_)) + 1e-6)\n",
    "\n",
    "def load_image(input_path: str) -> tuple:\n",
    "    reader       = sitk.ReadImage(input_path)\n",
    "    image        = sitk.GetArrayFromImage(reader)\n",
    "    spacing      = reader.GetSpacing()[::-1]\n",
    "    origin_image = np.array(reader.GetOrigin()[::-1]) \n",
    "    directions   = np.array(reader.GetDirection()[::-1])\n",
    "    \n",
    "    return image, spacing, origin_image, directions"
   ]
  },
  {
   "cell_type": "code",
   "execution_count": 2,
   "id": "42b98872-2c58-4a4b-823a-ef8e7d5d434d",
   "metadata": {},
   "outputs": [],
   "source": [
    "import matplotlib.pyplot as plt\n",
    "import numpy as np\n",
    "import torch\n",
    "import json\n",
    "\n",
    "with open('/home/kreinin.mv/2024/data_aorta/nnUNet_preprocessed/Dataset030_aorta/splits_final.json', 'r') as f:\n",
    "    splits = json.load(f)\n",
    "splits_metrics = torch.load('./metrics_nnunet.data')\n",
    "\n",
    "def get_names(fold_i):\n",
    "    mask_names, image_names = [], []\n",
    "    path = '/home/kreinin.mv/2024/data_aorta/nnUNet_raw/Dataset030_aorta/'\n",
    "    for name in splits[fold_i]['val']:\n",
    "        mask_names.append(path+'labelsTr/'+name+'.nrrd')\n",
    "        image_names.append(path+'imagesTr/'+name+'_0000.nrrd')\n",
    "    \n",
    "    names = {\n",
    "        'abdominal_aorta':[], \n",
    "        'descending_aorta': [], \n",
    "        'arch_aorta': [], \n",
    "        'ascending_aorta': [], \n",
    "        'aorta_bin': []\n",
    "    }\n",
    "    for idx, ma_name in enumerate(mask_names):\n",
    "        mask_orig = torch.from_numpy(load_mask(ma_name)[0])\n",
    "        \n",
    "        if 1 in mask_orig:\n",
    "            names['abdominal_aorta'].append((image_names[idx], ma_name))\n",
    "        if 2 in mask_orig:\n",
    "            names['descending_aorta'].append((image_names[idx], ma_name))\n",
    "        if 3 in mask_orig:\n",
    "            names['arch_aorta'].append((image_names[idx], ma_name))\n",
    "        if 4 in mask_orig:\n",
    "            names['ascending_aorta'].append((image_names[idx], ma_name))\n",
    "        \n",
    "        names['aorta_bin'].append((image_names[idx], ma_name))\n",
    "    for key in names:\n",
    "        names[key] = np.array(names[key])\n",
    "    return names\n",
    "\n",
    "def draw_distribution(split):\n",
    "    fig = plt.figure(figsize=(12, 2))\n",
    "    for idx, key in enumerate(split.keys()):\n",
    "        fig.add_subplot(1, 5, idx+1)\n",
    "        plt.title(key)\n",
    "        plt.hist(split[key], bins=25)\n",
    "        plt.xlim(0, 1)\n",
    "    plt.show()\n",
    "\n",
    "def save_mask_nrrd(arr_out, mask_name, directions, origin, spacing, layer_names):\n",
    "    image_sitk = sitk.GetImageFromArray(arr_out)\n",
    "    image_sitk.SetDirection(directions[::-1])\n",
    "    image_sitk.SetOrigin(origin[::-1])\n",
    "    image_sitk.SetSpacing(spacing[::-1])\n",
    "\n",
    "    for idx, layer_nm in enumerate(layer_names):\n",
    "        image_sitk.SetMetaData(f'Segment{idx}_ID', f'Segment_{idx+1}')\n",
    "        image_sitk.SetMetaData(f'Segment{idx}_LabelValue', '1')\n",
    "        image_sitk.SetMetaData(f'Segment{idx}_Layer', f'{idx}')\n",
    "        image_sitk.SetMetaData(f'Segment{idx}_Name', layer_nm)\n",
    "\n",
    "    image_sitk.SetMetaData(\"Segmentation_MasterRepresentation\", \"Binary labelmap\")\n",
    "    image_sitk.SetMetaData(\"Segmentation_ReferenceImageExtentOffset\", \"0 0 0\")\n",
    "    image_sitk.SetMetaData(\"Segmentation_ContainedRepresentationNames\", \"Binary labelmap|\")\n",
    "    \n",
    "    sitk.WriteImage(image_sitk, mask_name, useCompression=True)"
   ]
  },
  {
   "cell_type": "code",
   "execution_count": 31,
   "id": "30b3a84a-f3e4-45b5-b951-83ac64268f91",
   "metadata": {},
   "outputs": [
    {
     "name": "stdout",
     "output_type": "stream",
     "text": [
      "Fold_0 | abdominal_aorta = 0.756 | descending_aorta = 0.864 | arch_aorta = 0.743 | ascending_aorta = 0.743 | aorta_bin = 0.881 | \n",
      "abdominal_aorta = 2 | descending_aorta = 0 | arch_aorta = 1 | ascending_aorta = 1 | aorta_bin = 0 | \n"
     ]
    },
    {
     "data": {
      "image/png": "[encoded data removed]",
      "text/plain": [
       "<Figure size 1200x200 with 5 Axes>"
      ]
     },
     "metadata": {},
     "output_type": "display_data"
    },
    {
     "name": "stdout",
     "output_type": "stream",
     "text": [
      "Fold_1 | abdominal_aorta = 0.677 | descending_aorta = 0.839 | arch_aorta = 0.764 | ascending_aorta = 0.764 | aorta_bin = 0.879 | \n",
      "abdominal_aorta = 6 | descending_aorta = 0 | arch_aorta = 0 | ascending_aorta = 0 | aorta_bin = 0 | \n"
     ]
    },
    {
     "data": {
      "image/png": "[encoded data removed]",
      "text/plain": [
       "<Figure size 1200x200 with 5 Axes>"
      ]
     },
     "metadata": {},
     "output_type": "display_data"
    },
    {
     "name": "stdout",
     "output_type": "stream",
     "text": [
      "Fold_2 | abdominal_aorta = 0.731 | descending_aorta = 0.850 | arch_aorta = 0.759 | ascending_aorta = 0.759 | aorta_bin = 0.889 | \n",
      "abdominal_aorta = 3 | descending_aorta = 1 | arch_aorta = 0 | ascending_aorta = 0 | aorta_bin = 0 | \n"
     ]
    },
    {
     "data": {
      "image/png": "[encoded data removed]",
      "text/plain": [
       "<Figure size 1200x200 with 5 Axes>"
      ]
     },
     "metadata": {},
     "output_type": "display_data"
    },
    {
     "name": "stdout",
     "output_type": "stream",
     "text": [
      "Fold_3 | abdominal_aorta = 0.682 | descending_aorta = 0.864 | arch_aorta = 0.741 | ascending_aorta = 0.741 | aorta_bin = 0.884 | \n",
      "abdominal_aorta = 9 | descending_aorta = 0 | arch_aorta = 3 | ascending_aorta = 3 | aorta_bin = 1 | \n"
     ]
    },
    {
     "data": {
      "image/png": "[encoded data removed]",
      "text/plain": [
       "<Figure size 1200x200 with 5 Axes>"
      ]
     },
     "metadata": {},
     "output_type": "display_data"
    },
    {
     "name": "stdout",
     "output_type": "stream",
     "text": [
      "Fold_4 | abdominal_aorta = 0.689 | descending_aorta = 0.845 | arch_aorta = 0.762 | ascending_aorta = 0.762 | aorta_bin = 0.881 | \n",
      "abdominal_aorta = 7 | descending_aorta = 1 | arch_aorta = 1 | ascending_aorta = 1 | aorta_bin = 1 | \n"
     ]
    },
    {
     "data": {
      "image/png": "[encoded data removed]",
      "text/plain": [
       "<Figure size 1200x200 with 5 Axes>"
      ]
     },
     "metadata": {},
     "output_type": "display_data"
    }
   ],
   "source": [
    "split_bad_cases = []\n",
    "for fold_i, split in enumerate(splits_metrics):\n",
    "    bad_cases = []\n",
    "    names = get_names(fold_i)\n",
    "    print(f'Fold_{fold_i} | ', end='')\n",
    "    for key in split.keys():\n",
    "        print(f'{key} = {np.mean(split[key]):.03f} |', end=' ')\n",
    "    print('')\n",
    "    \n",
    "    for key in split.keys():\n",
    "        arr = np.array(split[key])\n",
    "        print(f'{key} = {np.sum(arr < 0.5)} | ', end='')\n",
    "        for idx, name in enumerate(names[key]):\n",
    "            if arr[idx] < 0.5:\n",
    "                bad_cases.append((key, arr[idx], name))\n",
    "    print('')\n",
    "    draw_distribution(split)\n",
    "    split_bad_cases.append(bad_cases)"
   ]
  },
  {
   "cell_type": "markdown",
   "id": "4ac4ac7b-7e9a-4e66-b27a-858439599de8",
   "metadata": {},
   "source": [
    "### Deep in bad cases"
   ]
  },
  {
   "cell_type": "code",
   "execution_count": 100,
   "id": "a27f4dfa-87df-4b71-b2eb-3893a039df5a",
   "metadata": {},
   "outputs": [
    {
     "name": "stdout",
     "output_type": "stream",
     "text": [
      "abdominal_aorta 0.0\n"
     ]
    }
   ],
   "source": [
    "idx = 8\n",
    "fold_i = 3\n",
    "im_name, ma_name = split_bad_cases[fold_i][idx][2]\n",
    "print(split_bad_cases[fold_i][idx][0], split_bad_cases[fold_i][idx][1])\n",
    "mask = load_mask(ma_name)[0]\n",
    "image = load_image(im_name)[0]"
   ]
  },
  {
   "cell_type": "code",
   "execution_count": 98,
   "id": "d4f7c12d-7a0c-43d7-b7ec-2b92e6956b3e",
   "metadata": {},
   "outputs": [
    {
     "data": {
      "text/plain": [
       "((1217, 512, 512), (1217, 512, 512))"
      ]
     },
     "execution_count": 98,
     "metadata": {},
     "output_type": "execute_result"
    }
   ],
   "source": [
    "image.shape, mask.shape"
   ]
  },
  {
   "cell_type": "code",
   "execution_count": 103,
   "id": "a4340089-725a-4e36-a375-e57e1941d211",
   "metadata": {},
   "outputs": [
    {
     "data": {
      "application/vnd.jupyter.widget-view+json": {
       "model_id": "f5e5c224ab08425d83b91ce14d8c8d24",
       "version_major": 2,
       "version_minor": 0
      },
      "text/plain": [
       "HBox(children=(ToggleButtons(description='Slice plane selection:', index=1, options=('axial', 'sagittal', 'cor…"
      ]
     },
     "metadata": {},
     "output_type": "display_data"
    },
    {
     "data": {
      "application/vnd.jupyter.widget-view+json": {
       "model_id": "8822fa39e5f4403d97a484a628458306",
       "version_major": 2,
       "version_minor": 0
      },
      "text/plain": [
       "HBox(children=(ToggleButtons(description='Flip on:', options=('Off', 'On'), style=ToggleButtonsStyle(button_wi…"
      ]
     },
     "metadata": {},
     "output_type": "display_data"
    },
    {
     "data": {
      "application/vnd.jupyter.widget-view+json": {
       "model_id": "dc7bda934cf84e188f2f5fd9df2fb5f4",
       "version_major": 2,
       "version_minor": 0
      },
      "text/plain": [
       "HBox(children=(IntRangeSlider(value=(-160, 240), description='Clip:', layout=Layout(height='20px', width='500p…"
      ]
     },
     "metadata": {},
     "output_type": "display_data"
    },
    {
     "data": {
      "application/vnd.jupyter.widget-view+json": {
       "model_id": "d2af4313caa641129404a317af4c4da0",
       "version_major": 2,
       "version_minor": 0
      },
      "text/plain": [
       "HBox(children=(IntSlider(value=256, description='Slice:', layout=Layout(height='20px', width='500px'), max=511…"
      ]
     },
     "metadata": {},
     "output_type": "display_data"
    },
    {
     "data": {
      "application/vnd.jupyter.widget-view+json": {
       "model_id": "ad194da7f6a448c2a7a9c1eec73496e7",
       "version_major": 2,
       "version_minor": 0
      },
      "text/plain": [
       "Output()"
      ]
     },
     "metadata": {},
     "output_type": "display_data"
    }
   ],
   "source": [
    "viewer = LightPatientViewer3D(image, mask==3)"
   ]
  },
  {
   "cell_type": "code",
   "execution_count": null,
   "id": "a263b7b0-6725-4b26-9870-7b45b0b1419d",
   "metadata": {},
   "outputs": [],
   "source": []
  },
  {
   "cell_type": "code",
   "execution_count": 48,
   "id": "80a8df1f-75b9-4437-9335-5b6f3cd5d82c",
   "metadata": {},
   "outputs": [
    {
     "name": "stdout",
     "output_type": "stream",
     "text": [
      "28\n"
     ]
    },
    {
     "data": {
      "text/plain": [
       "28"
      ]
     },
     "execution_count": 48,
     "metadata": {},
     "output_type": "execute_result"
    }
   ],
   "source": [
    "bad_cases_im, bad_cases_ma = [], []\n",
    "for x in split_bad_cases:\n",
    "    bad_cases_im.extend([a[0] for a in x])\n",
    "    bad_cases_ma.extend([a[1] for a in x])\n",
    "    \n",
    "print(len(xuy))\n",
    "bad_cases_im = sorted(list(set(bad_cases_im)))\n",
    "bad_cases_ma = sorted(list(set(bad_cases_ma)))\n",
    "len(xuy)"
   ]
  },
  {
   "cell_type": "code",
   "execution_count": null,
   "id": "90114bdf-d5eb-4844-9cee-1cafb5223fc3",
   "metadata": {},
   "outputs": [],
   "source": [
    "image, spacing, origin, directions = load_mask(ma_name)\n",
    "save_mask_nrrd(arr_out, mask_name, directions, origin, spacing, layer_names)"
   ]
  },
  {
   "cell_type": "code",
   "execution_count": 49,
   "id": "666f6474-f9d7-4508-a523-f75cc9871fb1",
   "metadata": {},
   "outputs": [
    {
     "data": {
      "text/plain": [
       "(['/home/kreinin.mv/2024/data_aorta/nnUNet_raw/Dataset030_aorta/imagesTr/0000_4classes_0000.nrrd',\n",
       "  '/home/kreinin.mv/2024/data_aorta/nnUNet_raw/Dataset030_aorta/imagesTr/0001_4classes_0000.nrrd'],\n",
       " ['/home/kreinin.mv/2024/data_aorta/nnUNet_raw/Dataset030_aorta/labelsTr/0000_4classes.nrrd',\n",
       "  '/home/kreinin.mv/2024/data_aorta/nnUNet_raw/Dataset030_aorta/labelsTr/0001_4classes.nrrd'])"
      ]
     },
     "execution_count": 49,
     "metadata": {},
     "output_type": "execute_result"
    }
   ],
   "source": [
    "bad_cases_im[:2], bad_cases_ma[:2]"
   ]
  },
  {
   "cell_type": "code",
   "execution_count": null,
   "id": "a975fcea-9b68-4c6a-9eb6-726240539c9d",
   "metadata": {},
   "outputs": [],
   "source": [
    "path = '/home/kreinin.mv/2024/data_aorta/nnUNet_raw/Dataset030_aorta/'\n",
    "for name in splits[0]['val']+splits[0]['train']:\n",
    "    im_name = path+'imagesTr/'+name+'_0000.nrrd'\n",
    "    image = load_image(im_name)[0]\n",
    "    print(im_name)\n",
    "    plt.imshow(image[:, :, image.shape[2]//2], cmap='Greys_r')\n",
    "    plt.show()"
   ]
  },
  {
   "cell_type": "markdown",
   "id": "a6980d38-4a8b-4ea6-92bc-a5e7333da4b1",
   "metadata": {},
   "source": [
    "### Filter pseudo-label cases"
   ]
  },
  {
   "cell_type": "code",
   "execution_count": 3,
   "id": "b07cf409-2f80-4edc-8d20-7ff4e466978e",
   "metadata": {},
   "outputs": [],
   "source": [
    "import SimpleITK as sitk\n",
    "import numpy as np\n",
    "import glob, os\n",
    "from tqdm import tqdm\n",
    "from aid_common_utils.file_utils import load_mask, load_dicom\n",
    "from aid_common_utils.viewer import LightPatientViewer3D\n",
    "import torch\n",
    "\n",
    "def iou(net_output, target, class_label=1):\n",
    "    net_out_ = (net_output == class_label)\n",
    "    target_ = (target == class_label)\n",
    "    \n",
    "    intersection = np.sum(net_out_ & target_)\n",
    "    union = np.sum(net_out_ | target_)\n",
    "    \n",
    "    return intersection / (union + 1e-8)"
   ]
  },
  {
   "cell_type": "code",
   "execution_count": 4,
   "id": "f0198fc1-cfb9-4424-ba90-ff7a49459663",
   "metadata": {},
   "outputs": [],
   "source": [
    "import aid_dicom_utils\n",
    "#dir_path = '/mnt/storage_b/shared/obp_potok/'\n",
    "#dir_names = sorted(glob.glob(os.path.join(f\"{dir_path}/\", \"*\")))\n",
    "#files_for_markup = torch.load('file_for_markup.data')\n",
    "dir_path = '/mnt/storage_a/shared/FB_with_fractures'\n",
    "dir_names = sorted(glob.glob(os.path.join(f\"{dir_path}/\", \"*\")))\n",
    "#dir_names = list(set(dir_names) - set(duplicates))\n",
    "files_for_markup = torch.load('file_for_markup.data')\n",
    "dir_names += files_for_markup\n",
    "\n",
    "filtered_names = torch.load('./unique_names.data')\n",
    "pairs = [(0, 1), (0, 2), (0, 3), (0, 4), (1, 2), (1, 3), (1, 4), (2, 3), (2, 4), (3, 4)]\n",
    "statistics = { \n",
    "    'name'   : [],\n",
    "    'shapes' : [],\n",
    "    'spacing': [],\n",
    "    \n",
    "    'dif_abdominal_aorta' : [],\n",
    "    'dif_descending_aorta': [],\n",
    "    'dif_arch_aorta'      : [],\n",
    "    'dif_ascending_aorta' : [],\n",
    "    'dif_binary'          : [],\n",
    "\n",
    "    'folds_abdominal_aorta' : [],\n",
    "    'folds_descending_aorta': [],\n",
    "    'folds_arch_aorta'      : [],\n",
    "    'folds_ascending_aorta' : [],\n",
    "    'folds_binary'          : [],\n",
    "    \n",
    "    'is_abdominal_aorta' : [],\n",
    "    'is_descending_aorta': [],\n",
    "    'is_arch_aorta'      : [],\n",
    "    'is_ascending_aorta' : [],\n",
    "}"
   ]
  },
  {
   "cell_type": "code",
   "execution_count": 8,
   "id": "a42c9dd3-0de1-4022-aff0-06e38654d074",
   "metadata": {},
   "outputs": [
    {
     "name": "stdout",
     "output_type": "stream",
     "text": [
      "46.341119050979614\n"
     ]
    }
   ],
   "source": [
    "import time\n",
    "start = time.time()\n",
    "masks = [load_mask(dirname + f'/labels/{i}.seg.nrrd')[1] for i in range(5)]\n",
    "class_names, fold_mask, spacing = load_mask(dirname + f'/labels/folds.seg.nrrd')\n",
    "print(time.time()-start)"
   ]
  },
  {
   "cell_type": "code",
   "execution_count": 10,
   "id": "59b46635-b75f-4c15-ba40-95f3ffd77ce5",
   "metadata": {},
   "outputs": [
    {
     "data": {
      "text/plain": [
       "222.33333333333334"
      ]
     },
     "execution_count": 10,
     "metadata": {},
     "output_type": "execute_result"
    }
   ],
   "source": [
    "46*290/60"
   ]
  },
  {
   "cell_type": "code",
   "execution_count": 11,
   "id": "8af42beb-5219-49e2-9631-83d0e6e5b352",
   "metadata": {},
   "outputs": [
    {
     "name": "stderr",
     "output_type": "stream",
     "text": [
      "285it [4:56:48, 62.49s/it] \n"
     ]
    }
   ],
   "source": [
    "for idx, dirname in tqdm(enumerate(filtered_names)):    \n",
    "    masks = [load_mask(dirname + f'/labels/{i}.seg.nrrd')[1] for i in range(5)]\n",
    "    class_names, fold_mask, spacing = load_mask(dirname + f'/labels/folds.seg.nrrd')\n",
    "\n",
    "    statistics['name'].append(dirname)\n",
    "    statistics['shapes'].append(fold_mask.shape[1])\n",
    "    statistics['spacing'].append(spacing[0])\n",
    "\n",
    "    for cl_name in class_names:\n",
    "        ious = []\n",
    "        for i in range(5):\n",
    "            ious.append(iou(masks[i][class_names[cl_name]], fold_mask[class_names[cl_name]]))\n",
    "        statistics[f'dif_{cl_name}'].append(ious)\n",
    "        \n",
    "        ious = []\n",
    "        for i, j in pairs:\n",
    "            ious.append(iou(masks[i][class_names[cl_name]], masks[j][class_names[cl_name]]))\n",
    "        statistics[f'folds_{cl_name}'].append(ious)\n",
    "    \n",
    "    statistics['dif_binary'].append([iou(masks[i].sum(axis=0), fold_mask.sum(axis=0)) for i in range(5)])\n",
    "    ious = []\n",
    "    for i, j in pairs:\n",
    "        ious.append(iou(masks[i].sum(axis=0), masks[j].sum(axis=0)))\n",
    "    statistics[f'folds_binary'].append(ious)\n",
    "        \n",
    "    statistics['is_abdominal_aorta' ].append(fold_mask[0].sum()>0)\n",
    "    statistics['is_descending_aorta'].append(fold_mask[1].sum()>0)\n",
    "    statistics['is_arch_aorta'      ].append(fold_mask[2].sum()>0)\n",
    "    statistics['is_ascending_aorta' ].append(fold_mask[3].sum()>0)"
   ]
  },
  {
   "cell_type": "code",
   "execution_count": 12,
   "id": "0ac803b8-54ca-4091-8167-620840cef17e",
   "metadata": {},
   "outputs": [
    {
     "name": "stdout",
     "output_type": "stream",
     "text": [
      "name 285\n",
      "shapes 285\n",
      "spacing 285\n",
      "dif_abdominal_aorta 285\n",
      "dif_descending_aorta 285\n",
      "dif_arch_aorta 285\n",
      "dif_ascending_aorta 285\n",
      "dif_binary 285\n",
      "folds_abdominal_aorta 285\n",
      "folds_descending_aorta 285\n",
      "folds_arch_aorta 285\n",
      "folds_ascending_aorta 285\n",
      "folds_binary 285\n",
      "is_abdominal_aorta 285\n",
      "is_descending_aorta 285\n",
      "is_arch_aorta 285\n",
      "is_ascending_aorta 285\n"
     ]
    }
   ],
   "source": [
    "for key in statistics.keys():\n",
    "    print(key, len(statistics[key]))"
   ]
  },
  {
   "cell_type": "code",
   "execution_count": 13,
   "id": "4015e7c3-a014-4b4d-aa82-eeb5445f35ff",
   "metadata": {},
   "outputs": [],
   "source": [
    "#torch.save(statistics, 'new_nnunet_folds_stats.data')"
   ]
  },
  {
   "cell_type": "code",
   "execution_count": null,
   "id": "3cb1077d-1bc1-4e80-a5dd-b8a3fb038217",
   "metadata": {},
   "outputs": [],
   "source": [
    "import os\n",
    "cnt = 0\n",
    "not_cnt = 0\n",
    "files_to_process = []\n",
    "for dirname in sorted(os.listdir(parent_directory)):\n",
    "    if os.path.isdir(labels_path):  # Check if the 'labels' directory exists\n",
    "        num_files = len([f for f in os.listdir(labels_path) if os.path.isfile(os.path.join(labels_path, f))])\n",
    "        if num_files == 6:\n",
    "            #print(f\"'{labels_path}' exists and contains 6 files.\")\n",
    "            cnt += 1\n",
    "        else:\n",
    "            files_to_process.append(item_path)\n",
    "            not_cnt += 1\n",
    "            print(f\"'{labels_path}' exists but contains {num_files} files.\")\n",
    "            print([f for f in os.listdir(labels_path) if os.path.isfile(os.path.join(labels_path, f))])\n",
    "    else:\n",
    "        pass"
   ]
  },
  {
   "cell_type": "markdown",
   "id": "f160c8d2-f635-4cff-8d16-299d5c4fd46a",
   "metadata": {},
   "source": [
    "### Find duplicates"
   ]
  },
  {
   "cell_type": "code",
   "execution_count": 3,
   "id": "4169966d-d913-47ca-b1d3-0967206f6e41",
   "metadata": {},
   "outputs": [
    {
     "name": "stderr",
     "output_type": "stream",
     "text": [
      "100%|██████████| 290/290 [41:19<00:00,  8.55s/it]\n"
     ]
    }
   ],
   "source": [
    "from aid_dicom_utils import *\n",
    "from tqdm import tqdm\n",
    "import glob, os\n",
    "dir_path = '/mnt/storage_a/shared/FB_with_fractures'\n",
    "dir_names = sorted(glob.glob(os.path.join(f\"{dir_path}/\", \"*\")))\n",
    "files_for_markup = torch.load('file_for_markup.data')\n",
    "dir_names += files_for_markup\n",
    "uids = []\n",
    "names_unique = []\n",
    "for study in tqdm(dir_names):\n",
    "    studies = read_dicom_directory(f\"{study}\", progress_bar=None)\n",
    "    #group = select_series_group(studies[0])\n",
    "    if len(studies) > 1:\n",
    "        print('xuy')\n",
    "    if not(studies[0].study_uid in uids):\n",
    "        uids.append(studies[0].study_uid)\n",
    "        names_unique.append(study)"
   ]
  },
  {
   "cell_type": "code",
   "execution_count": 17,
   "id": "1f389a11-3ed1-4264-a19b-17131e92bb45",
   "metadata": {},
   "outputs": [],
   "source": [
    "filtered_names = list(set(names_unique) - set(['/mnt/storage_a/shared/FB_with_fractures/1.2.392.200036.9116.2.6.1.44063.1811171601.1716194792.814930']))"
   ]
  },
  {
   "cell_type": "code",
   "execution_count": 20,
   "id": "21238bfc-7c43-4472-b96b-af785d7aeafc",
   "metadata": {},
   "outputs": [],
   "source": [
    "#torch.save(filtered_names, './unique_names.data')"
   ]
  },
  {
   "cell_type": "code",
   "execution_count": 21,
   "id": "c4029cb2-2295-4ddf-9691-60e54c8f9425",
   "metadata": {},
   "outputs": [],
   "source": [
    "for dirname in filtered_names:\n",
    "    labelname = dirname+'/labels/'\n",
    "    xuy = sorted(glob.glob(os.path.join(labelname, \"*\")))\n",
    "    if len(xuy) != 6:\n",
    "        print(labelname)\n",
    "        print(xuy)"
   ]
  },
  {
   "cell_type": "code",
   "execution_count": 1,
   "id": "83715faf-9da1-4fb1-93cb-058cfcbe78dc",
   "metadata": {},
   "outputs": [],
   "source": [
    "import totalsegmentator"
   ]
  },
  {
   "cell_type": "code",
   "execution_count": 2,
   "id": "71024e63-6889-4d13-a993-dc02387b9f1e",
   "metadata": {},
   "outputs": [
    {
     "ename": "AttributeError",
     "evalue": "module 'totalsegmentator' has no attribute '__version__'",
     "output_type": "error",
     "traceback": [
      "\u001b[0;31m---------------------------------------------------------------------------\u001b[0m",
      "\u001b[0;31mAttributeError\u001b[0m                            Traceback (most recent call last)",
      "Cell \u001b[0;32mIn[2], line 1\u001b[0m\n\u001b[0;32m----> 1\u001b[0m \u001b[43mtotalsegmentator\u001b[49m\u001b[38;5;241;43m.\u001b[39;49m\u001b[43m__version__\u001b[49m\n",
      "\u001b[0;31mAttributeError\u001b[0m: module 'totalsegmentator' has no attribute '__version__'"
     ]
    }
   ],
   "source": [
    "totalsegmentator.__version__"
   ]
  }
 ],
 "metadata": {
  "kernelspec": {
   "display_name": "vista",
   "language": "python",
   "name": "vista"
  },
  "language_info": {
   "codemirror_mode": {
    "name": "ipython",
    "version": 3
   },
   "file_extension": ".py",
   "mimetype": "text/x-python",
   "name": "python",
   "nbconvert_exporter": "python",
   "pygments_lexer": "ipython3",
   "version": "3.11.3"
  }
 },
 "nbformat": 4,
 "nbformat_minor": 5
}
