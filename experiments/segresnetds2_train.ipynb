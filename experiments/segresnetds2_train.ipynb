{
 "cells": [
  {
   "cell_type": "code",
   "execution_count": 3,
   "id": "59353da5-bb31-46b1-b066-3336c8fd22f7",
   "metadata": {},
   "outputs": [],
   "source": [
    "import os\n",
    "os.environ[\"CUDA_VISIBLE_DEVICES\"] = \"0\"\n",
    "from importlib import reload\n",
    "import segresnetds2_target\n",
    "reload(segresnetds2_target)\n",
    "import warnings\n",
    "warnings.filterwarnings('ignore')\n",
    "None"
   ]
  },
  {
   "cell_type": "code",
   "execution_count": null,
   "id": "e0caddfb-30e9-4a28-b8d0-e636da0eff34",
   "metadata": {},
   "outputs": [
    {
     "name": "stderr",
     "output_type": "stream",
     "text": [
      "\u001b[34m\u001b[1mwandb\u001b[0m: Currently logged in as: \u001b[33mkreininmv\u001b[0m. Use \u001b[1m`wandb login --relogin`\u001b[0m to force relogin\n",
      "\u001b[34m\u001b[1mwandb\u001b[0m: \u001b[33mWARNING\u001b[0m If you're specifying your api key in code, ensure this code is not shared publicly.\n",
      "\u001b[34m\u001b[1mwandb\u001b[0m: \u001b[33mWARNING\u001b[0m Consider setting the WANDB_API_KEY environment variable, or running `wandb login` from the command line.\n",
      "\u001b[34m\u001b[1mwandb\u001b[0m: Appending key for api.wandb.ai to your netrc file: /home/kreinin.mv/.netrc\n"
     ]
    },
    {
     "data": {
      "text/html": [
       "wandb version 0.19.0 is available!  To upgrade, please run:\n",
       " $ pip install wandb --upgrade"
      ],
      "text/plain": [
       "<IPython.core.display.HTML object>"
      ]
     },
     "metadata": {},
     "output_type": "display_data"
    },
    {
     "data": {
      "text/html": [
       "Tracking run with wandb version 0.17.5"
      ],
      "text/plain": [
       "<IPython.core.display.HTML object>"
      ]
     },
     "metadata": {},
     "output_type": "display_data"
    },
    {
     "data": {
      "text/html": [
       "Run data is saved locally in <code>/ssd/kreinin.mv/aorta/target/train/wandb/run-20241210_212903-i72q7dz6</code>"
      ],
      "text/plain": [
       "<IPython.core.display.HTML object>"
      ]
     },
     "metadata": {},
     "output_type": "display_data"
    },
    {
     "data": {
      "text/html": [
       "Syncing run <strong><a href='https://wandb.ai/kreininmv/target_bin_aorta_v2/runs/i72q7dz6' target=\"_blank\">ethereal-silence-33</a></strong> to <a href='https://wandb.ai/kreininmv/target_bin_aorta_v2' target=\"_blank\">Weights & Biases</a> (<a href='https://wandb.me/run' target=\"_blank\">docs</a>)<br/>"
      ],
      "text/plain": [
       "<IPython.core.display.HTML object>"
      ]
     },
     "metadata": {},
     "output_type": "display_data"
    },
    {
     "data": {
      "text/html": [
       " View project at <a href='https://wandb.ai/kreininmv/target_bin_aorta_v2' target=\"_blank\">https://wandb.ai/kreininmv/target_bin_aorta_v2</a>"
      ],
      "text/plain": [
       "<IPython.core.display.HTML object>"
      ]
     },
     "metadata": {},
     "output_type": "display_data"
    },
    {
     "data": {
      "text/html": [
       " View run at <a href='https://wandb.ai/kreininmv/target_bin_aorta_v2/runs/i72q7dz6' target=\"_blank\">https://wandb.ai/kreininmv/target_bin_aorta_v2/runs/i72q7dz6</a>"
      ],
      "text/plain": [
       "<IPython.core.display.HTML object>"
      ]
     },
     "metadata": {},
     "output_type": "display_data"
    },
    {
     "name": "stderr",
     "output_type": "stream",
     "text": [
      "Epoch (Train)[6/1000]:  82%|████████▏ | 363/445 [03:22<00:33,  2.46it/s, IoU=0.926, loss=0.0229]IOPub message rate exceeded.\n",
      "The Jupyter server will temporarily stop sending output\n",
      "to the client in order to avoid crashing it.\n",
      "To change this limit, set the config variable\n",
      "`--ServerApp.iopub_msg_rate_limit`.\n",
      "\n",
      "Current values:\n",
      "ServerApp.iopub_msg_rate_limit=1000.0 (msgs/sec)\n",
      "ServerApp.rate_limit_window=3.0 (secs)\n",
      "\n",
      "Epoch (Train)[20/1000]:  69%|██████▉   | 308/445 [02:54<01:16,  1.78it/s, IoU=0.929, loss=0.0206]"
     ]
    }
   ],
   "source": [
    "model = segresnetds2_target.Trainer('segresnetds_baseline.yaml')\n",
    "model.load('run_pious-haze-32_model_best')\n",
    "model.fit()"
   ]
  },
  {
   "cell_type": "code",
   "execution_count": 3,
   "id": "4f66c563-d4c3-451b-8679-e6628d2b2f21",
   "metadata": {},
   "outputs": [],
   "source": [
    "import monai\n",
    "from torchinfo import summary\n",
    "import torch\n",
    "net = monai.networks.nets.SegResNetDS2(\n",
    "    spatial_dims = 3,\n",
    "    init_filters = 32,\n",
    "    in_channels  = 1,\n",
    "    out_channels = 2,\n",
    "    act          = 'relu',\n",
    "    norm         = 'instance',\n",
    "    blocks_down  = [1, 2, 2, 4],\n",
    "    dsdepth      = 1,\n",
    "    upsample_mode= 'deconv',\n",
    ")"
   ]
  },
  {
   "cell_type": "code",
   "execution_count": 4,
   "id": "cd4acb70-36cc-4522-baba-717e4da93eb8",
   "metadata": {},
   "outputs": [
    {
     "data": {
      "text/plain": [
       "=========================================================================================================\n",
       "Layer (type:depth-idx)                                  Output Shape              Param #\n",
       "=========================================================================================================\n",
       "SegResNetDS2                                            [1, 2, 96, 96, 96]        --\n",
       "├─SegResEncoder: 1-1                                    [1, 32, 96, 96, 96]       --\n",
       "│    └─Conv3d: 2-1                                      [1, 32, 96, 96, 96]       864\n",
       "│    └─ModuleList: 2-2                                  --                        --\n",
       "│    │    └─ModuleDict: 3-1                             --                        110,720\n",
       "│    │    └─ModuleDict: 3-2                             --                        664,064\n",
       "│    │    └─ModuleDict: 3-3                             --                        2,655,232\n",
       "│    │    └─ModuleDict: 3-4                             --                        14,159,872\n",
       "├─ModuleList: 1-2                                       --                        --\n",
       "│    └─ModuleDict: 2-3                                  --                        --\n",
       "│    │    └─UpSample: 3-5                               [1, 128, 24, 24, 24]      884,736\n",
       "│    │    └─Sequential: 3-6                             [1, 128, 24, 24, 24]      885,248\n",
       "│    └─ModuleDict: 2-4                                  --                        --\n",
       "│    │    └─UpSample: 3-7                               [1, 64, 48, 48, 48]       221,184\n",
       "│    │    └─Sequential: 3-8                             [1, 64, 48, 48, 48]       221,440\n",
       "│    └─ModuleDict: 2-5                                  --                        --\n",
       "│    │    └─UpSample: 3-9                               [1, 32, 96, 96, 96]       55,296\n",
       "│    │    └─Sequential: 3-10                            [1, 32, 96, 96, 96]       55,424\n",
       "│    │    └─Conv3d: 3-11                                [1, 2, 96, 96, 96]        66\n",
       "├─ModuleList: 1-3                                       --                        --\n",
       "│    └─ModuleDict: 2-6                                  --                        --\n",
       "│    │    └─UpSample: 3-12                              [1, 128, 24, 24, 24]      884,736\n",
       "│    │    └─Sequential: 3-13                            [1, 128, 24, 24, 24]      885,248\n",
       "│    └─ModuleDict: 2-7                                  --                        --\n",
       "│    │    └─UpSample: 3-14                              [1, 64, 48, 48, 48]       221,184\n",
       "│    │    └─Sequential: 3-15                            [1, 64, 48, 48, 48]       221,440\n",
       "│    └─ModuleDict: 2-8                                  --                        --\n",
       "│    │    └─UpSample: 3-16                              [1, 32, 96, 96, 96]       55,296\n",
       "│    │    └─Sequential: 3-17                            [1, 32, 96, 96, 96]       55,424\n",
       "│    │    └─Conv3d: 3-18                                [1, 2, 96, 96, 96]        66\n",
       "=========================================================================================================\n",
       "Total params: 22,237,540\n",
       "Trainable params: 22,237,540\n",
       "Non-trainable params: 0\n",
       "Total mult-adds (G): 500.81\n",
       "=========================================================================================================\n",
       "Input size (MB): 3.54\n",
       "Forward/backward pass size (MB): 4830.66\n",
       "Params size (MB): 88.95\n",
       "Estimated Total Size (MB): 4923.15\n",
       "========================================================================================================="
      ]
     },
     "execution_count": 4,
     "metadata": {},
     "output_type": "execute_result"
    }
   ],
   "source": [
    "summary(net, (1, 1, 96, 96, 96))"
   ]
  }
 ],
 "metadata": {
  "kernelspec": {
   "display_name": "Python 3 (ipykernel)",
   "language": "python",
   "name": "python3"
  },
  "language_info": {
   "codemirror_mode": {
    "name": "ipython",
    "version": 3
   },
   "file_extension": ".py",
   "mimetype": "text/x-python",
   "name": "python",
   "nbconvert_exporter": "python",
   "pygments_lexer": "ipython3",
   "version": "3.11.3"
  }
 },
 "nbformat": 4,
 "nbformat_minor": 5
}
